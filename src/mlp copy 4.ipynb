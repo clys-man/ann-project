{
 "cells": [
  {
   "attachments": {},
   "cell_type": "markdown",
   "metadata": {},
   "source": [
    "# <font color = 'blue'> AV2"
   ]
  },
  {
   "attachments": {},
   "cell_type": "markdown",
   "metadata": {},
   "source": [
    "## <font color = purple> Importanto bibliotecas e dados"
   ]
  },
  {
   "cell_type": "code",
   "execution_count": 1,
   "metadata": {},
   "outputs": [],
   "source": [
    "import numpy as np\n",
    "import pandas as pd\n",
    "import matplotlib.pyplot as plt\n",
    "from sklearn.model_selection import train_test_split\n",
    "from sklearn.decomposition import PCA\n",
    "from sklearn.manifold import TSNE\n",
    "import seaborn as sns\n",
    "from sklearn.metrics import confusion_matrix\n"
   ]
  },
  {
   "cell_type": "code",
   "execution_count": 3,
   "metadata": {},
   "outputs": [
    {
     "name": "stdout",
     "output_type": "stream",
     "text": [
      "(92, 9)\n",
      "(92, 1)\n"
     ]
    }
   ],
   "source": [
    "Dados = pd.read_csv('data/breast_cancer.csv').values\n",
    "Size = Dados.shape\n",
    "X = Dados[:, 0:Size[1]-1].reshape(Size[0], Size[1]-1)\n",
    "y = Dados[:, Size[1]-1].reshape(Size[0], 1)\n",
    "X_train, X_test, y_train, y_test = train_test_split(X, y, test_size=0.2, random_state = 25)"
   ]
  },
  {
   "attachments": {},
   "cell_type": "markdown",
   "metadata": {},
   "source": [
    "## <font color = purple> Funções de ativação"
   ]
  },
  {
   "cell_type": "code",
   "execution_count": 4,
   "metadata": {},
   "outputs": [],
   "source": [
    "# funções de ativação \n",
    "def sigmoide(x):\n",
    "    return 1 / (1 + np.exp(-x))\n",
    "\n",
    "def sigmoide_derivada(x):\n",
    "    return sigmoide(x) * (1 - sigmoide(x))\n",
    "\n",
    "def tanh(x):\n",
    "    return np.tanh(x)\n",
    "\n",
    "def tanh_derivada(x):\n",
    "    return 1 - np.tanh(x)**2"
   ]
  },
  {
   "attachments": {},
   "cell_type": "markdown",
   "metadata": {},
   "source": [
    "## <font color = purple> Classes"
   ]
  },
  {
   "attachments": {},
   "cell_type": "markdown",
   "metadata": {},
   "source": [
    "### <font color = green> RBF"
   ]
  },
  {
   "cell_type": "code",
   "execution_count": 27,
   "metadata": {},
   "outputs": [],
   "source": [
    "class RBF:\n",
    "    def __init__(self, k, funcao_ativacao, limiar, epocas, tolerancia, learning_rate):\n",
    "        self.k = k\n",
    "        self.funcao_ativacao = funcao_ativacao\n",
    "        self.epocas = epocas\n",
    "        self.tolerancia = tolerancia\n",
    "        self.limiar = limiar\n",
    "        self.learning_rate = learning_rate\n",
    "\n",
    "    def _kmeans(self, X, k, epocas, tolerancia):\n",
    "        np.random.seed(42)\n",
    "        centros = X[np.random.choice(X.shape[0], k, replace=False)]\n",
    "        distances = np.zeros((X.shape[0], k))\n",
    "\n",
    "        for _ in range(epocas):\n",
    "            for i, c in enumerate(centros):\n",
    "                distances[:, i] = np.linalg.norm(X - c, axis=1)\n",
    "            labels = np.argmin(distances, axis=1)\n",
    "            novos_centros = np.array([X[labels == i].mean(axis=0) for i in range(k)])\n",
    "\n",
    "            if np.linalg.norm(novos_centros - centros) < tolerancia:\n",
    "                break\n",
    "            centros = novos_centros\n",
    "\n",
    "        return centros\n",
    "\n",
    "\n",
    "    def _rbf(self, X, center, sigma):\n",
    "        return np.exp(-np.sum((X - center) ** 2, axis=1) / (2 * sigma ** 2))\n",
    "\n",
    "\n",
    "    def _sigma(self, centros):\n",
    "        distancias = np.zeros((centros.shape[0], centros.shape[0]))\n",
    "        for i in range(centros.shape[0]):\n",
    "            for j in range(centros.shape[0]):\n",
    "                distancias[i, j] = np.linalg.norm(centros[i] - centros[j])\n",
    "\n",
    "        np.fill_diagonal(distancias, np.inf)\n",
    "        return np.min(distancias) / np.sqrt(2 * self.k)\n",
    "\n",
    "\n",
    "\n",
    "    def treinar(self, X, y):\n",
    "        self.centers = self._kmeans(X, self.k, self.epocas, self.tolerancia)\n",
    "        self.sigma = self._sigma(self.centers)\n",
    "\n",
    "        rbf_matrix = np.zeros((X.shape[0], self.k))\n",
    "        for i in range(self.k):\n",
    "            rbf_matrix[:, i] = self._rbf(X, self.centers[i], self.sigma)\n",
    "\n",
    "        self.weights = np.linalg.pinv(rbf_matrix.T @ rbf_matrix) @ rbf_matrix.T @ y.reshape(-1, 1)\n",
    "\n",
    "    def prever(self, X):\n",
    "        rbf_matrix = np.zeros((X.shape[0], self.k))\n",
    "        for i in range(self.k):\n",
    "            rbf_matrix[:, i] = self._rbf(X, self.centers[i], self.sigma)\n",
    "\n",
    "        y_pred = self.funcao_ativacao(rbf_matrix @ self.weights)\n",
    "        return y_pred\n",
    "\n",
    "    def acuracia(self, y_pred, y_true):\n",
    "        y_pred = np.where(y_pred >= self.limiar, 1, 2) \n",
    "        return np.mean(y_pred == y_true.reshape(-1, 1))\n",
    "\n",
    "#\n"
   ]
  },
  {
   "attachments": {},
   "cell_type": "markdown",
   "metadata": {},
   "source": [
    "### <font color = green> Classe MLP"
   ]
  },
  {
   "cell_type": "code",
   "execution_count": 5,
   "metadata": {},
   "outputs": [],
   "source": [
    "class MLP:\n",
    "    def __init__(self, camadas, funcao_ativacao, funcao_ativacao_derivada, erro_minimo, learning_rate=0.05, epocas=10000, limiar=0.50, ):\n",
    "        self.camadas = camadas\n",
    "        self.funcao_ativacao = funcao_ativacao\n",
    "        self.funcao_ativacao_derivada = funcao_ativacao_derivada\n",
    "        self.learning_rate = learning_rate\n",
    "        self.epocas = epocas\n",
    "        self.limiar = limiar\n",
    "        self.erro_minimo = erro_minimo\n",
    "        self.pesos, self.biases = self.iniciando_pesos()\n",
    "        \n",
    "\n",
    "    def iniciando_pesos(self):\n",
    "        np.random.seed(42)  \n",
    "        pesos = []  \n",
    "        biases = []  \n",
    "\n",
    "        for i in range(len(self.camadas) - 1):\n",
    "            \n",
    "            pesos.append(np.random.randn(self.camadas[i], self.camadas[i + 1]))\n",
    "            biases.append(np.zeros((1, self.camadas[i + 1])))\n",
    "\n",
    "        return pesos, biases\n",
    "\n",
    "    def treinar(self, X_train, y_train):\n",
    "        m = X_train.shape[0] \n",
    "        epoca = 0\n",
    "\n",
    "        for epoca in range(self.epocas):\n",
    "            saidas = [X_train] \n",
    "            zs = [] \n",
    "\n",
    "            for i in range(len(self.camadas) - 1):\n",
    "                z = saidas[-1] @ self.pesos[i] + self.biases[i]\n",
    "                zs.append(z) \n",
    "                \n",
    "                a = self.funcao_ativacao(z)\n",
    "                saidas.append(a) \n",
    "\n",
    "            erro = np.sum(np.square(y_train.reshape(-1, 1) - saidas[-1])) / (2 * m)\n",
    "            if (erro <= self.erro_minimo):\n",
    "                #print('parou devido ao erro')\n",
    "                break\n",
    "            \n",
    "            delta = (saidas[-1] - y_train.reshape(-1, 1)) * self.funcao_ativacao_derivada(zs[-1])\n",
    "            dW = (1 / m) * (saidas[-2].T @ delta)  \n",
    "            db = (1 / m) * np.sum(delta, axis=0, keepdims=True)  \n",
    "            peso_atualizado = [dW]  \n",
    "            bias_atualizado = [db]\n",
    "        \n",
    "\n",
    "            for i in range(len(self.camadas) - 3, -1, -1):\n",
    "                delta = (delta @ self.pesos[i + 1].T) * self.funcao_ativacao_derivada(zs[i])\n",
    "                \n",
    "                dW = (1 / m) * (saidas[i].T @ delta)\n",
    "                \n",
    "                db = (1 / m) * np.sum(delta, axis=0, keepdims=True)\n",
    "                \n",
    "                peso_atualizado.insert(0, dW)\n",
    "                bias_atualizado.insert(0, db)\n",
    "\n",
    "            for i in range(len(self.pesos)):\n",
    "                self.pesos[i] -= self.learning_rate * peso_atualizado[i]\n",
    "                self.biases[i] -= self.learning_rate * bias_atualizado[i]\n",
    "                \n",
    "            epoca+=1   \n",
    "            if(epoca == self.epocas):    \n",
    "                #print('parou devido ao numero de max de épocas pré definido')\n",
    "                break  \n",
    "        \n",
    "\n",
    "    def prever(self, X):\n",
    "        saidas = [X]\n",
    "        for i in range(len(self.camadas) - 1):\n",
    "            z = saidas[-1] @ self.pesos[i] + self.biases[i]\n",
    "            a = self.funcao_ativacao(z)\n",
    "            saidas.append(a)\n",
    "\n",
    "        # mudar o limite do limiar dependendo da função de ativação\n",
    "        y_pred = np.where(saidas[-1] >= self.limiar, 1, 2)\n",
    "        return y_pred\n",
    "\n",
    "    def acuracia(self, y_pred, y_true):\n",
    "        return np.mean(y_pred == y_true)\n",
    "\n"
   ]
  },
  {
   "attachments": {},
   "cell_type": "markdown",
   "metadata": {},
   "source": [
    "### <font color = green>Classe Perceptron simples"
   ]
  },
  {
   "cell_type": "code",
   "execution_count": 7,
   "metadata": {},
   "outputs": [],
   "source": [
    "class Perceptron:\n",
    "    def __init__(self, learning_rate, erro_minimo, epocas):\n",
    "        self.learning_rate = learning_rate\n",
    "        self.erro_minimo = erro_minimo\n",
    "        self.epocas = epocas\n",
    "        self.W = None\n",
    "\n",
    "    def treinar(self, X_train, y_train):\n",
    "        X_train = X_train.T\n",
    "        X_train = np.concatenate((-np.ones((1, X_train.shape[1])), X_train), axis=0)\n",
    "\n",
    "        y_train.shape = (len(y_train), 1)\n",
    "\n",
    "        self.W = np.random.random_sample((X_train.shape[0], 1)) - 0.5\n",
    "\n",
    "        epoch = 0\n",
    "\n",
    "        while True:\n",
    "            epoch += 1\n",
    "            acertos = 0\n",
    "            total_error = 0\n",
    "            for t in range(X_train.shape[1]):\n",
    "                x_t = X_train[:, t].reshape(X_train.shape[0], 1)\n",
    "                u_t = self.W.T @ x_t\n",
    "                y_t = sigmoide(u_t[0, 0])\n",
    "\n",
    "                # Define o limiar de classificação\n",
    "                y_t = 1 if y_t > 0.6 else 2\n",
    "\n",
    "                d_t = y_train[t, 0]\n",
    "                if y_t == d_t:\n",
    "                    acertos += 1\n",
    "                error = d_t - y_t\n",
    "                self.W = self.W + self.learning_rate * error * x_t\n",
    "                total_error += abs(error)\n",
    "\n",
    "\n",
    "            mean_error = total_error / X_train.shape[1]\n",
    "\n",
    "            if mean_error < self.erro_minimo or epoch >= self.epocas:\n",
    "                break\n",
    "        acuracia = acertos / X_train.shape[1]\n",
    "        return acuracia\n",
    "\n",
    "    def prever(self, X_test):\n",
    "        X_test = X_test.T\n",
    "        X_test = np.concatenate((-np.ones((1, X_test.shape[1])), X_test), axis=0)\n",
    "\n",
    "        y_pred = []\n",
    "        for t in range(X_test.shape[1]):\n",
    "            x_t = X_test[:, t].reshape(X_test.shape[0], 1)\n",
    "            u_t = self.W.T @ x_t\n",
    "            y_t = sigmoide(u_t[0, 0])\n",
    "            y_t = 1 if y_t > 0.6 else 2\n",
    "            y_pred.append(y_t)\n",
    "        return np.array(y_pred)\n",
    "\n",
    "    def acuracia(self, X, y):\n",
    "        X = X.T\n",
    "        X = np.concatenate((-np.ones((1, X.shape[1])), X), axis=0)\n",
    "\n",
    "        y.shape = (len(y), 1)\n",
    "\n",
    "        acertos = 0\n",
    "        for t in range(X.shape[1]):\n",
    "            x_t = X[:, t].reshape(X.shape[0], 1)\n",
    "            u_t = self.W.T @ x_t\n",
    "            y_t = sigmoide(u_t[0, 0])\n",
    "            y_t = 1 if y_t >= 0.6 else 2\n",
    "            d_t = y[t, 0]\n",
    "            if y_t == d_t:\n",
    "                acertos += 1\n",
    "        acuracia = acertos / X.shape[1]\n",
    "        return acuracia\n"
   ]
  },
  {
   "attachments": {},
   "cell_type": "markdown",
   "metadata": {},
   "source": [
    "### <font color = green>Classe Adaline"
   ]
  },
  {
   "cell_type": "code",
   "execution_count": 8,
   "metadata": {},
   "outputs": [],
   "source": [
    "class Adaline:\n",
    "    def __init__(self, learning_rate, erro_minimo, epocas):\n",
    "        self.learning_rate = learning_rate\n",
    "        self.erro_minimo = erro_minimo\n",
    "        self.epocas = epocas\n",
    "        self.W = None\n",
    "\n",
    "    def treinar(self, X_train, y_train):\n",
    "        X_train = X_train.T\n",
    "        X_train = np.concatenate((-np.ones((1, X_train.shape[1])), X_train), axis=0)\n",
    "\n",
    "        y_train.shape = (len(y_train), 1)\n",
    "\n",
    "        self.W = np.random.random_sample((X_train.shape[0], 1)) - 0.5\n",
    "\n",
    "        epoch = 0\n",
    "\n",
    "        while True:\n",
    "            epoch += 1\n",
    "            total_error = 0\n",
    "            for t in range(X_train.shape[1]):\n",
    "                x_t = X_train[:, t].reshape(X_train.shape[0], 1)\n",
    "                u_t = self.W.T @ x_t\n",
    "                y_t = u_t[0, 0]\n",
    "\n",
    "                d_t = y_train[t, 0]\n",
    "                error = d_t - y_t\n",
    "                self.W = self.W + self.learning_rate * error * x_t\n",
    "                total_error += abs(error)\n",
    "\n",
    "            mean_error = total_error / X_train.shape[1]\n",
    "\n",
    "            if mean_error < self.erro_minimo or epoch >= self.epocas:\n",
    "                break\n",
    "\n",
    "    def prever(self, X_test):\n",
    "        X_test = X_test.T\n",
    "        X_test = np.concatenate((-np.ones((1, X_test.shape[1])), X_test), axis=0)\n",
    "\n",
    "        y_pred = []\n",
    "        for t in range(X_test.shape[1]):\n",
    "            x_t = X_test[:, t].reshape(X_test.shape[0], 1)\n",
    "            u_t = self.W.T @ x_t\n",
    "            y_t = u_t[0, 0]\n",
    "            y_t = 1 if y_t > 0.6 else 2\n",
    "            y_pred.append(y_t)\n",
    "        return np.array(y_pred)\n",
    "\n",
    "    def acuracia(self, X, y):\n",
    "        X = X.T\n",
    "        X = np.concatenate((-np.ones((1, X.shape[1])), X), axis=0)\n",
    "\n",
    "        y.shape = (len(y), 1)\n",
    "\n",
    "        acertos = 0\n",
    "        for t in range(X.shape[1]):\n",
    "            x_t = X[:, t].reshape(X.shape[0], 1)\n",
    "            u_t = self.W.T @ x_t\n",
    "            y_t = u_t[0, 0]\n",
    "            y_t = 1 if y_t > 0.6 else 2\n",
    "            d_t = y[t, 0]\n",
    "            if y_t == d_t:\n",
    "                acertos += 1\n",
    "        acuracia = acertos / X.shape[1]\n",
    "        return acuracia\n"
   ]
  },
  {
   "attachments": {},
   "cell_type": "markdown",
   "metadata": {},
   "source": [
    "## <font color = purple> Perceptron simples"
   ]
  },
  {
   "cell_type": "code",
   "execution_count": 9,
   "metadata": {},
   "outputs": [],
   "source": [
    "learning_rate = 0.005\n",
    "erro_minimo = 0.005\n",
    "epocas = 100"
   ]
  },
  {
   "cell_type": "code",
   "execution_count": 35,
   "metadata": {},
   "outputs": [
    {
     "name": "stderr",
     "output_type": "stream",
     "text": [
      "/tmp/ipykernel_6695/680583226.py:3: RuntimeWarning: overflow encountered in exp\n",
      "  return 1 / (1 + np.exp(-x))\n"
     ]
    },
    {
     "name": "stdout",
     "output_type": "stream",
     "text": [
      "[0.54166667]\n"
     ]
    },
    {
     "data": {
      "text/html": [
       "<style type=\"text/css\">\n",
       "#T_cc859_row0_col0, #T_cc859_row0_col1 {\n",
       "  background-color: blue;\n",
       "}\n",
       "</style>\n",
       "<table id=\"T_cc859\">\n",
       "  <thead>\n",
       "    <tr>\n",
       "      <th class=\"blank level0\" >&nbsp;</th>\n",
       "      <th id=\"T_cc859_level0_col0\" class=\"col_heading level0 col0\" >acuracia_treino</th>\n",
       "      <th id=\"T_cc859_level0_col1\" class=\"col_heading level0 col1\" >acuracia_teste</th>\n",
       "    </tr>\n",
       "  </thead>\n",
       "  <tbody>\n",
       "    <tr>\n",
       "      <th id=\"T_cc859_level0_row0\" class=\"row_heading level0 row0\" >0</th>\n",
       "      <td id=\"T_cc859_row0_col0\" class=\"data row0 col0\" >0.554348</td>\n",
       "      <td id=\"T_cc859_row0_col1\" class=\"data row0 col1\" >0.541667</td>\n",
       "    </tr>\n",
       "  </tbody>\n",
       "</table>\n"
      ],
      "text/plain": [
       "<pandas.io.formats.style.Styler at 0x78512a2044d0>"
      ]
     },
     "execution_count": 35,
     "metadata": {},
     "output_type": "execute_result"
    }
   ],
   "source": [
    "perceptron_df = []\n",
    "\n",
    "\n",
    "for i in range(1):\n",
    "    perceptron = Perceptron(learning_rate=learning_rate, erro_minimo=erro_minimo,epocas=epocas)\n",
    "    X_train, X_test, y_train, y_test = train_test_split(X, y, test_size=0.2, random_state = i)\n",
    "\n",
    "    perceptron.treinar(X_train, y_train)\n",
    "\n",
    "    y_pred = perceptron.prever(X_train)\n",
    "    acuracia_treino = perceptron.acuracia(X_train, y_train)\n",
    "\n",
    "    y_pred = perceptron.prever(X_test)\n",
    "    acuracia_teste = perceptron.acuracia(X_test, y_test)\n",
    "\n",
    "    acuracias_perceptron = {'acuracia_treino': acuracia_treino, 'acuracia_teste': acuracia_teste}\n",
    "\n",
    "    perceptron_df.append(pd.DataFrame(acuracias_perceptron, index=[i]))\n",
    "\n",
    "perceptron = pd.concat(perceptron_df)\n",
    "\n",
    "print(perceptron['acuracia_teste'].values)\n",
    "\n",
    "perceptron.style.highlight_max(subset=['acuracia_treino', 'acuracia_teste'], color='blue', axis=0)\n"
   ]
  },
  {
   "cell_type": "code",
   "execution_count": 11,
   "metadata": {},
   "outputs": [
    {
     "data": {
      "image/png": "[encoded data removed]",
      "text/plain": [
       "<Figure size 200x200 with 1 Axes>"
      ]
     },
     "metadata": {},
     "output_type": "display_data"
    }
   ],
   "source": [
    "perceptron = Perceptron(learning_rate=learning_rate, erro_minimo=erro_minimo,epocas=epocas)\n",
    "\n",
    "X_train, X_test, y_train, y_test = train_test_split(X, y, test_size=0.2, random_state = 11)\n",
    "perceptron.treinar(X_train, y_train)\n",
    "y_pred = perceptron.prever(X_test)\n",
    "\n",
    "cm = confusion_matrix(y_test, y_pred)\n",
    "\n",
    "plt.figure(figsize=(2, 2))\n",
    "sns.heatmap(cm, annot=True, fmt='d', cmap='Blues', cbar=False, xticklabels=['bad', 'good'], yticklabels=['bad', 'good'])\n",
    "plt.xlabel('Predito')\n",
    "plt.ylabel('Real')\n",
    "plt.title('Matriz de Confusão Perceptron')\n",
    "plt.show()"
   ]
  },
  {
   "attachments": {},
   "cell_type": "markdown",
   "metadata": {},
   "source": [
    "## <font color = purple> Adaline"
   ]
  },
  {
   "cell_type": "code",
   "execution_count": 12,
   "metadata": {},
   "outputs": [],
   "source": [
    "learning_rate = 0.05\n",
    "erro_minimo = 0.001\n",
    "epocas = 100"
   ]
  },
  {
   "cell_type": "code",
   "execution_count": 13,
   "metadata": {},
   "outputs": [
    {
     "name": "stderr",
     "output_type": "stream",
     "text": [
      "/tmp/ipykernel_6695/508369852.py:23: RuntimeWarning: overflow encountered in matmul\n",
      "  u_t = self.W.T @ x_t\n",
      "/tmp/ipykernel_6695/508369852.py:28: RuntimeWarning: invalid value encountered in add\n",
      "  self.W = self.W + self.learning_rate * error * x_t\n"
     ]
    },
    {
     "data": {
      "text/html": [
       "<style type=\"text/css\">\n",
       "#T_437ff_row0_col0, #T_437ff_row0_col1 {\n",
       "  background-color: blue;\n",
       "}\n",
       "</style>\n",
       "<table id=\"T_437ff\">\n",
       "  <thead>\n",
       "    <tr>\n",
       "      <th class=\"blank level0\" >&nbsp;</th>\n",
       "      <th id=\"T_437ff_level0_col0\" class=\"col_heading level0 col0\" >acuracia_treino</th>\n",
       "      <th id=\"T_437ff_level0_col1\" class=\"col_heading level0 col1\" >acuracia_teste</th>\n",
       "    </tr>\n",
       "  </thead>\n",
       "  <tbody>\n",
       "    <tr>\n",
       "      <th id=\"T_437ff_level0_row0\" class=\"row_heading level0 row0\" >0</th>\n",
       "      <td id=\"T_437ff_row0_col0\" class=\"data row0 col0\" >0.554348</td>\n",
       "      <td id=\"T_437ff_row0_col1\" class=\"data row0 col1\" >0.541667</td>\n",
       "    </tr>\n",
       "  </tbody>\n",
       "</table>\n"
      ],
      "text/plain": [
       "<pandas.io.formats.style.Styler at 0x785131795b80>"
      ]
     },
     "execution_count": 13,
     "metadata": {},
     "output_type": "execute_result"
    }
   ],
   "source": [
    "adaline_df = []\n",
    "\n",
    "for i in range(1):\n",
    "    adaline = Adaline(learning_rate, erro_minimo, epocas)  \n",
    "    X_train, X_test, y_train, y_test = train_test_split(X, y, test_size=0.2, random_state=i)\n",
    "\n",
    "    adaline.treinar(X_train, y_train)\n",
    "\n",
    "    y_pred = adaline.prever(X_train)\n",
    "    acuracia_treino = adaline.acuracia(X_train, y_train)\n",
    "\n",
    "    y_pred = adaline.prever(X_test)\n",
    "    acuracia_teste = adaline.acuracia(X_test, y_test)\n",
    "\n",
    "    acuracias_adaline = {'acuracia_treino': acuracia_treino, 'acuracia_teste': acuracia_teste}\n",
    "\n",
    "    adaline_df.append(pd.DataFrame(acuracias_adaline, index=[i]))\n",
    "\n",
    "adaline = pd.concat(adaline_df)\n",
    "\n",
    "adaline.style.highlight_max(subset=['acuracia_treino', 'acuracia_teste'], color='blue', axis=0)\n",
    "\n"
   ]
  },
  {
   "cell_type": "code",
   "execution_count": 14,
   "metadata": {},
   "outputs": [
    {
     "name": "stderr",
     "output_type": "stream",
     "text": [
      "/tmp/ipykernel_6695/508369852.py:23: RuntimeWarning: overflow encountered in matmul\n",
      "  u_t = self.W.T @ x_t\n",
      "/tmp/ipykernel_6695/508369852.py:28: RuntimeWarning: invalid value encountered in add\n",
      "  self.W = self.W + self.learning_rate * error * x_t\n"
     ]
    },
    {
     "data": {
      "image/png": "[encoded data removed]",
      "text/plain": [
       "<Figure size 500x500 with 1 Axes>"
      ]
     },
     "metadata": {},
     "output_type": "display_data"
    }
   ],
   "source": [
    "adaline = Adaline(learning_rate, erro_minimo, epocas)  \n",
    "X_train, X_test, y_train, y_test = train_test_split(X, y, test_size=0.2, random_state = 22)\n",
    "\n",
    "adaline.treinar(X_train, y_train)\n",
    "y_pred = adaline.prever(X_test)\n",
    "\n",
    "cm = confusion_matrix(y_test, y_pred)\n",
    "\n",
    "plt.figure(figsize=(5, 5))\n",
    "sns.heatmap(cm, annot=True, fmt='d', cmap='Blues', cbar=False, xticklabels=['bad', 'good'], yticklabels=['bad', 'good'])\n",
    "plt.xlabel('Predito')\n",
    "plt.ylabel('Real')\n",
    "plt.title('Matriz de Confusão ADALINE')\n",
    "plt.show()"
   ]
  },
  {
   "attachments": {},
   "cell_type": "markdown",
   "metadata": {},
   "source": [
    "## <font color = purple> Treinamento e teste MLP"
   ]
  },
  {
   "attachments": {},
   "cell_type": "markdown",
   "metadata": {},
   "source": [
    "### <font color = green> Sigmoide"
   ]
  },
  {
   "cell_type": "code",
   "execution_count": 18,
   "metadata": {},
   "outputs": [],
   "source": [
    "learning_rate = 0.6\n",
    "epocas = 1000\n",
    "limiar = 0.6\n",
    "camada_de_entrada = X_train.shape[1] # como dito em sala, isso é fixo.... mas poderia não ser.\n",
    "camada_de_saida = 1 # no meu caso é uma classificação binária de atmosfera 'good' ou 'bad'\n",
    "camadas_escondidas = [50, 20, 10]\n",
    "camadas=[camada_de_entrada] + camadas_escondidas + [camada_de_saida]\n",
    "erro = 0.005"
   ]
  },
  {
   "cell_type": "code",
   "execution_count": 20,
   "metadata": {},
   "outputs": [
    {
     "name": "stderr",
     "output_type": "stream",
     "text": [
      "/tmp/ipykernel_6695/680583226.py:3: RuntimeWarning: overflow encountered in exp\n",
      "  return 1 / (1 + np.exp(-x))\n"
     ]
    },
    {
     "data": {
      "text/html": [
       "<style type=\"text/css\">\n",
       "#T_40988_row0_col0, #T_40988_row0_col1 {\n",
       "  background-color: blue;\n",
       "}\n",
       "</style>\n",
       "<table id=\"T_40988\">\n",
       "  <thead>\n",
       "    <tr>\n",
       "      <th class=\"blank level0\" >&nbsp;</th>\n",
       "      <th id=\"T_40988_level0_col0\" class=\"col_heading level0 col0\" >acuracia_treino</th>\n",
       "      <th id=\"T_40988_level0_col1\" class=\"col_heading level0 col1\" >acuracia_teste</th>\n",
       "    </tr>\n",
       "  </thead>\n",
       "  <tbody>\n",
       "    <tr>\n",
       "      <th id=\"T_40988_level0_row0\" class=\"row_heading level0 row0\" >0</th>\n",
       "      <td id=\"T_40988_row0_col0\" class=\"data row0 col0\" >0.445652</td>\n",
       "      <td id=\"T_40988_row0_col1\" class=\"data row0 col1\" >0.458333</td>\n",
       "    </tr>\n",
       "  </tbody>\n",
       "</table>\n"
      ],
      "text/plain": [
       "<pandas.io.formats.style.Styler at 0x785130ff7da0>"
      ]
     },
     "execution_count": 20,
     "metadata": {},
     "output_type": "execute_result"
    }
   ],
   "source": [
    "mlp_df = []\n",
    "\n",
    "for i in range(1):\n",
    "    mlp = MLP(camadas=camadas, funcao_ativacao=sigmoide, funcao_ativacao_derivada=sigmoide_derivada, erro_minimo=erro, learning_rate=learning_rate, epocas=epocas, limiar = limiar)\n",
    "    X_train, X_test, y_train, y_test = train_test_split(X, y, test_size=0.2, random_state = i)\n",
    "\n",
    "    mlp.treinar(X_train, y_train)\n",
    "\n",
    "    y_pred_treino_mlp = mlp.prever(X_train)\n",
    "    acuracia_treino_mlp = mlp.acuracia(y_pred_treino_mlp, y_train)\n",
    "\n",
    "    y_pred_teste_mlp = mlp.prever(X_test)\n",
    "    acuracia_teste_mlp = mlp.acuracia(y_pred_teste_mlp, y_test)\n",
    "\n",
    "    acuracias_mlp = {'acuracia_treino': acuracia_treino_mlp, 'acuracia_teste': acuracia_teste_mlp}\n",
    "    \n",
    "    mlp_df.append(pd.DataFrame(acuracias_mlp, index=[i]))\n",
    "\n",
    "mlp = pd.concat(mlp_df)\n",
    "\n",
    "mlp.style.highlight_max(subset=['acuracia_treino', 'acuracia_teste'], color='blue', axis=0)"
   ]
  },
  {
   "cell_type": "code",
   "execution_count": 21,
   "metadata": {},
   "outputs": [
    {
     "name": "stderr",
     "output_type": "stream",
     "text": [
      "/tmp/ipykernel_6695/680583226.py:3: RuntimeWarning: overflow encountered in exp\n",
      "  return 1 / (1 + np.exp(-x))\n"
     ]
    },
    {
     "data": {
      "image/png": "[encoded data removed]",
      "text/plain": [
       "<Figure size 500x500 with 1 Axes>"
      ]
     },
     "metadata": {},
     "output_type": "display_data"
    }
   ],
   "source": [
    "mlp = MLP(camadas=camadas, funcao_ativacao=sigmoide, funcao_ativacao_derivada=sigmoide_derivada, erro_minimo=erro, learning_rate=learning_rate, epocas=epocas, limiar = limiar)\n",
    "X_train, X_test, y_train, y_test = train_test_split(X, y, test_size=0.2, random_state = 25)\n",
    "\n",
    "mlp.treinar(X_train, y_train)\n",
    "y_pred = mlp.prever(X_test)\n",
    "\n",
    "cm = confusion_matrix(y_test, y_pred)\n",
    "\n",
    "plt.figure(figsize=(5, 5))\n",
    "sns.heatmap(cm, annot=True, fmt='d', cmap='Blues', cbar=False, xticklabels=['bad', 'good'], yticklabels=['bad', 'good'])\n",
    "plt.xlabel('Predito')\n",
    "plt.ylabel('Real')\n",
    "plt.title('Matriz de Confusão MLP - Sigmoide')\n",
    "plt.show()"
   ]
  },
  {
   "attachments": {},
   "cell_type": "markdown",
   "metadata": {},
   "source": [
    "### <font color = green> Tangente hiperbolica"
   ]
  },
  {
   "cell_type": "code",
   "execution_count": 22,
   "metadata": {},
   "outputs": [],
   "source": [
    "learning_rate = 0.01\n",
    "epocas = 1000\n",
    "limiar = 0.5\n",
    "camada_de_entrada = X_train.shape[1] # como dito em sala, isso é fixo.... mas poderia não ser.\n",
    "camada_de_saida = 1 # no meu caso é uma classificação binária de atmosfera 'good' ou 'bad'\n",
    "camadas_escondidas = [50, 20, 10]\n",
    "camadas=[camada_de_entrada] + camadas_escondidas + [camada_de_saida]\n",
    "erro = 0.01"
   ]
  },
  {
   "cell_type": "code",
   "execution_count": 23,
   "metadata": {},
   "outputs": [
    {
     "data": {
      "text/html": [
       "<style type=\"text/css\">\n",
       "#T_4c613_row0_col0, #T_4c613_row0_col1 {\n",
       "  background-color: blue;\n",
       "}\n",
       "</style>\n",
       "<table id=\"T_4c613\">\n",
       "  <thead>\n",
       "    <tr>\n",
       "      <th class=\"blank level0\" >&nbsp;</th>\n",
       "      <th id=\"T_4c613_level0_col0\" class=\"col_heading level0 col0\" >acuracia_treino</th>\n",
       "      <th id=\"T_4c613_level0_col1\" class=\"col_heading level0 col1\" >acuracia_teste</th>\n",
       "    </tr>\n",
       "  </thead>\n",
       "  <tbody>\n",
       "    <tr>\n",
       "      <th id=\"T_4c613_level0_row0\" class=\"row_heading level0 row0\" >0</th>\n",
       "      <td id=\"T_4c613_row0_col0\" class=\"data row0 col0\" >0.445652</td>\n",
       "      <td id=\"T_4c613_row0_col1\" class=\"data row0 col1\" >0.458333</td>\n",
       "    </tr>\n",
       "  </tbody>\n",
       "</table>\n"
      ],
      "text/plain": [
       "<pandas.io.formats.style.Styler at 0x7851310bc080>"
      ]
     },
     "execution_count": 23,
     "metadata": {},
     "output_type": "execute_result"
    }
   ],
   "source": [
    "mlp_df_tanh = []\n",
    "\n",
    "for i in range(1):\n",
    "    mlp = MLP(camadas=camadas, funcao_ativacao=tanh, funcao_ativacao_derivada=tanh_derivada, erro_minimo=erro, learning_rate=learning_rate, epocas=epocas, limiar = limiar)\n",
    "    X_train, X_test, y_train, y_test = train_test_split(X, y, test_size=0.2, random_state = i)\n",
    "\n",
    "    mlp.treinar(X_train, y_train)\n",
    "\n",
    "    y_pred_treino_mlp_tanh = mlp.prever(X_train)\n",
    "    acuracia_treino_mlp_tanh = mlp.acuracia(y_pred_treino_mlp_tanh, y_train)\n",
    "\n",
    "    y_pred_teste_mlp_tanh = mlp.prever(X_test)\n",
    "    acuracia_teste_mlp_tanh = mlp.acuracia(y_pred_teste_mlp_tanh, y_test)\n",
    "\n",
    "    acuracias_mlp_tahn = {'acuracia_treino': acuracia_treino_mlp_tanh, 'acuracia_teste': acuracia_teste_mlp_tanh}\n",
    "    \n",
    "    mlp_df_tanh.append(pd.DataFrame(acuracias_mlp_tahn, index=[i]))\n",
    "\n",
    "mlp = pd.concat(mlp_df_tanh)\n",
    "\n",
    "mlp.style.highlight_max(subset=['acuracia_treino', 'acuracia_teste'], color='blue', axis=0)"
   ]
  },
  {
   "cell_type": "code",
   "execution_count": 24,
   "metadata": {},
   "outputs": [
    {
     "name": "stdout",
     "output_type": "stream",
     "text": [
      "[[10  0]\n",
      " [14  0]]\n"
     ]
    },
    {
     "data": {
      "image/png": "[encoded data removed]",
      "text/plain": [
       "<Figure size 200x200 with 1 Axes>"
      ]
     },
     "metadata": {},
     "output_type": "display_data"
    }
   ],
   "source": [
    "mlp = MLP(camadas=camadas, funcao_ativacao=tanh, funcao_ativacao_derivada=tanh_derivada, erro_minimo=erro, learning_rate=learning_rate, epocas=epocas, limiar = limiar)\n",
    "X_train, X_test, y_train, y_test = train_test_split(X, y, test_size=0.2, random_state = 15)\n",
    "\n",
    "mlp.treinar(X_train, y_train)\n",
    "y_pred = mlp.prever(X_test)\n",
    "\n",
    "cm = confusion_matrix(y_test, y_pred)\n",
    "print(cm)\n",
    "\n",
    "plt.figure(figsize=(2, 2))\n",
    "sns.heatmap(cm, annot=True, fmt='d', cmap='Blues', cbar=False, xticklabels=['bad', 'good'], yticklabels=['bad', 'good'])\n",
    "plt.xlabel('Predito')\n",
    "plt.ylabel('Real')\n",
    "plt.title('Matriz de Confusão')\n",
    "plt.show()"
   ]
  },
  {
   "attachments": {},
   "cell_type": "markdown",
   "metadata": {},
   "source": [
    "## <font color = purple> Treinamento e teste RBF"
   ]
  },
  {
   "cell_type": "code",
   "execution_count": 25,
   "metadata": {},
   "outputs": [],
   "source": [
    "k= 5\n",
    "epocas=1000\n",
    "tolerancia=0.001\n",
    "learning_rate = 0.01\n",
    "limiar = 0.6"
   ]
  },
  {
   "cell_type": "code",
   "execution_count": 28,
   "metadata": {},
   "outputs": [
    {
     "data": {
      "text/html": [
       "<style type=\"text/css\">\n",
       "#T_11faf_row1_col0, #T_11faf_row2_col1, #T_11faf_row4_col1, #T_11faf_row9_col1 {\n",
       "  background-color: blue;\n",
       "}\n",
       "</style>\n",
       "<table id=\"T_11faf\">\n",
       "  <thead>\n",
       "    <tr>\n",
       "      <th class=\"blank level0\" >&nbsp;</th>\n",
       "      <th id=\"T_11faf_level0_col0\" class=\"col_heading level0 col0\" >acuracia_treino</th>\n",
       "      <th id=\"T_11faf_level0_col1\" class=\"col_heading level0 col1\" >acuracia_teste</th>\n",
       "    </tr>\n",
       "  </thead>\n",
       "  <tbody>\n",
       "    <tr>\n",
       "      <th id=\"T_11faf_level0_row0\" class=\"row_heading level0 row0\" >0</th>\n",
       "      <td id=\"T_11faf_row0_col0\" class=\"data row0 col0\" >0.434783</td>\n",
       "      <td id=\"T_11faf_row0_col1\" class=\"data row0 col1\" >0.500000</td>\n",
       "    </tr>\n",
       "    <tr>\n",
       "      <th id=\"T_11faf_level0_row1\" class=\"row_heading level0 row1\" >1</th>\n",
       "      <td id=\"T_11faf_row1_col0\" class=\"data row1 col0\" >0.510870</td>\n",
       "      <td id=\"T_11faf_row1_col1\" class=\"data row1 col1\" >0.333333</td>\n",
       "    </tr>\n",
       "    <tr>\n",
       "      <th id=\"T_11faf_level0_row2\" class=\"row_heading level0 row2\" >2</th>\n",
       "      <td id=\"T_11faf_row2_col0\" class=\"data row2 col0\" >0.445652</td>\n",
       "      <td id=\"T_11faf_row2_col1\" class=\"data row2 col1\" >0.583333</td>\n",
       "    </tr>\n",
       "    <tr>\n",
       "      <th id=\"T_11faf_level0_row3\" class=\"row_heading level0 row3\" >3</th>\n",
       "      <td id=\"T_11faf_row3_col0\" class=\"data row3 col0\" >0.467391</td>\n",
       "      <td id=\"T_11faf_row3_col1\" class=\"data row3 col1\" >0.458333</td>\n",
       "    </tr>\n",
       "    <tr>\n",
       "      <th id=\"T_11faf_level0_row4\" class=\"row_heading level0 row4\" >4</th>\n",
       "      <td id=\"T_11faf_row4_col0\" class=\"data row4 col0\" >0.434783</td>\n",
       "      <td id=\"T_11faf_row4_col1\" class=\"data row4 col1\" >0.583333</td>\n",
       "    </tr>\n",
       "    <tr>\n",
       "      <th id=\"T_11faf_level0_row5\" class=\"row_heading level0 row5\" >5</th>\n",
       "      <td id=\"T_11faf_row5_col0\" class=\"data row5 col0\" >0.445652</td>\n",
       "      <td id=\"T_11faf_row5_col1\" class=\"data row5 col1\" >0.416667</td>\n",
       "    </tr>\n",
       "    <tr>\n",
       "      <th id=\"T_11faf_level0_row6\" class=\"row_heading level0 row6\" >6</th>\n",
       "      <td id=\"T_11faf_row6_col0\" class=\"data row6 col0\" >0.413043</td>\n",
       "      <td id=\"T_11faf_row6_col1\" class=\"data row6 col1\" >0.541667</td>\n",
       "    </tr>\n",
       "    <tr>\n",
       "      <th id=\"T_11faf_level0_row7\" class=\"row_heading level0 row7\" >7</th>\n",
       "      <td id=\"T_11faf_row7_col0\" class=\"data row7 col0\" >0.445652</td>\n",
       "      <td id=\"T_11faf_row7_col1\" class=\"data row7 col1\" >0.500000</td>\n",
       "    </tr>\n",
       "    <tr>\n",
       "      <th id=\"T_11faf_level0_row8\" class=\"row_heading level0 row8\" >8</th>\n",
       "      <td id=\"T_11faf_row8_col0\" class=\"data row8 col0\" >0.478261</td>\n",
       "      <td id=\"T_11faf_row8_col1\" class=\"data row8 col1\" >0.541667</td>\n",
       "    </tr>\n",
       "    <tr>\n",
       "      <th id=\"T_11faf_level0_row9\" class=\"row_heading level0 row9\" >9</th>\n",
       "      <td id=\"T_11faf_row9_col0\" class=\"data row9 col0\" >0.413043</td>\n",
       "      <td id=\"T_11faf_row9_col1\" class=\"data row9 col1\" >0.583333</td>\n",
       "    </tr>\n",
       "  </tbody>\n",
       "</table>\n"
      ],
      "text/plain": [
       "<pandas.io.formats.style.Styler at 0x78512ec7ba40>"
      ]
     },
     "execution_count": 28,
     "metadata": {},
     "output_type": "execute_result"
    }
   ],
   "source": [
    "rbf = RBF(k=k, funcao_ativacao = sigmoide, epocas=epocas, tolerancia=tolerancia, limiar = limiar, learning_rate=learning_rate)\n",
    "\n",
    "rbf_df = []\n",
    "\n",
    "for i in range(10):\n",
    "    rbf = RBF(k=k, funcao_ativacao = sigmoide, epocas=epocas, tolerancia=tolerancia, limiar = limiar, learning_rate=learning_rate)\n",
    "    X_train, X_test, y_train, y_test = train_test_split(X, y, test_size=0.2, random_state = i)\n",
    "\n",
    "    rbf.treinar(X_train, y_train)\n",
    "\n",
    "    y_pred = rbf.prever(X_train)\n",
    "    acuracia_treino = rbf.acuracia(y_pred, y_train)\n",
    "\n",
    "    y_pred = rbf.prever(X_test)\n",
    "    acuracia_teste = rbf.acuracia(y_pred, y_test)\n",
    "\n",
    "\n",
    "    acuracias_rbf = {'acuracia_treino': acuracia_treino, 'acuracia_teste': acuracia_teste}\n",
    "\n",
    "    rbf_df.append(pd.DataFrame(acuracias_rbf, index=[i]))\n",
    "\n",
    "rbf = pd.concat(rbf_df)\n",
    "\n",
    "rbf.style.highlight_max(subset=['acuracia_treino', 'acuracia_teste'], color='blue', axis=0)\n",
    "\n"
   ]
  },
  {
   "cell_type": "code",
   "execution_count": 29,
   "metadata": {},
   "outputs": [
    {
     "data": {
      "image/png": "[encoded data removed]",
      "text/plain": [
       "<Figure size 200x200 with 1 Axes>"
      ]
     },
     "metadata": {},
     "output_type": "display_data"
    }
   ],
   "source": [
    "rbf = RBF(k=k, funcao_ativacao = sigmoide, epocas=epocas, tolerancia=tolerancia, limiar = limiar, learning_rate=learning_rate)\n",
    "X_train, X_test, y_train, y_test = train_test_split(X, y, test_size=0.2, random_state = 2)\n",
    "\n",
    "rbf.treinar(X_train, y_train)\n",
    "y_pred = perceptron.prever(X_test)\n",
    "\n",
    "cm = confusion_matrix(y_test, (y_pred > 0.5).astype(int))\n",
    "\n",
    "plt.figure(figsize=(2, 2))\n",
    "sns.heatmap(cm, annot=True, fmt='d', cmap='Blues', cbar=False, xticklabels=['bad', 'good'], yticklabels=['bad', 'good'])\n",
    "plt.xlabel('Predito')\n",
    "plt.ylabel('Real')\n",
    "plt.title('Matriz de Confusão')\n",
    "plt.show()\n"
   ]
  },
  {
   "cell_type": "code",
   "execution_count": null,
   "metadata": {},
   "outputs": [],
   "source": []
  },
  {
   "cell_type": "code",
   "execution_count": null,
   "metadata": {},
   "outputs": [],
   "source": []
  },
  {
   "cell_type": "code",
   "execution_count": null,
   "metadata": {},
   "outputs": [],
   "source": []
  },
  {
   "cell_type": "code",
   "execution_count": null,
   "metadata": {},
   "outputs": [],
   "source": []
  },
  {
   "cell_type": "code",
   "execution_count": null,
   "metadata": {},
   "outputs": [],
   "source": []
  }
 ],
 "metadata": {
  "kernelspec": {
   "display_name": "base-copia",
   "language": "python",
   "name": "python3"
  },
  "language_info": {
   "codemirror_mode": {
    "name": "ipython",
    "version": 3
   },
   "file_extension": ".py",
   "mimetype": "text/x-python",
   "name": "python",
   "nbconvert_exporter": "python",
   "pygments_lexer": "ipython3",
   "version": "3.12.1"
  },
  "orig_nbformat": 4
 },
 "nbformat": 4,
 "nbformat_minor": 2
}
